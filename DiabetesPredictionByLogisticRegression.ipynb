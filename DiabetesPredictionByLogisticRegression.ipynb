{
 "cells": [
  {
   "cell_type": "code",
   "execution_count": 1,
   "id": "f23a467a",
   "metadata": {},
   "outputs": [],
   "source": [
    "#first we import the neccessary libraries\n",
    "import pandas as pd\n",
    "import numpy as np"
   ]
  },
  {
   "cell_type": "code",
   "execution_count": 2,
   "id": "cfb652c6",
   "metadata": {},
   "outputs": [],
   "source": [
    "# setting inputs and targets from csv files\n",
    "inputs=pd.read_csv('Diabetes_XTrain.csv')\n",
    "targets=pd.read_csv('Diabetes_YTrain.csv')"
   ]
  },
  {
   "cell_type": "code",
   "execution_count": 3,
   "id": "0b0f18e1",
   "metadata": {},
   "outputs": [],
   "source": [
    "# import train_test_split so we can split our data into train and test\n",
    "from sklearn.model_selection import train_test_split"
   ]
  },
  {
   "cell_type": "code",
   "execution_count": 4,
   "id": "b0a2696c",
   "metadata": {},
   "outputs": [
    {
     "data": {
      "text/plain": [
       "[     Pregnancies  Glucose  BloodPressure  SkinThickness  Insulin   BMI  \\\n",
       " 329            2      125             60             20      140  33.8   \n",
       " 376            5       97             76             27        0  35.6   \n",
       " 208            3      139             54              0        0  25.6   \n",
       " 134            0      101             65             28        0  24.6   \n",
       " 192            0      167              0              0        0  32.3   \n",
       " ..           ...      ...            ...            ...      ...   ...   \n",
       " 555            1      125             50             40      167  33.3   \n",
       " 309            0      129            110             46      130  67.1   \n",
       " 22             5       96             74             18       67  33.6   \n",
       " 419            3      128             72             25      190  32.4   \n",
       " 432           12      140             85             33        0  37.4   \n",
       " \n",
       "      DiabetesPedigreeFunction  Age  \n",
       " 329                     0.088   31  \n",
       " 376                     0.378   52  \n",
       " 208                     0.402   22  \n",
       " 134                     0.237   22  \n",
       " 192                     0.839   30  \n",
       " ..                        ...  ...  \n",
       " 555                     0.962   28  \n",
       " 309                     0.319   26  \n",
       " 22                      0.997   43  \n",
       " 419                     0.549   27  \n",
       " 432                     0.244   41  \n",
       " \n",
       " [432 rows x 8 columns],\n",
       "      Pregnancies  Glucose  BloodPressure  SkinThickness  Insulin   BMI  \\\n",
       " 180            4       90             88             47       54  37.7   \n",
       " 294            3      180             64             25       70  34.0   \n",
       " 447            1      115             70             30       96  34.6   \n",
       " 334            6      117             96              0        0  28.7   \n",
       " 308            1      106             76              0        0  37.5   \n",
       " ..           ...      ...            ...            ...      ...   ...   \n",
       " 384            4      197             70             39      744  36.7   \n",
       " 383            0      181             88             44      510  43.3   \n",
       " 233            0      108             68             20        0  27.3   \n",
       " 434            7      109             80             31        0  35.9   \n",
       " 187            4      128             70              0        0  34.3   \n",
       " \n",
       "      DiabetesPedigreeFunction  Age  \n",
       " 180                     0.362   29  \n",
       " 294                     0.271   26  \n",
       " 447                     0.529   32  \n",
       " 334                     0.157   30  \n",
       " 308                     0.197   26  \n",
       " ..                        ...  ...  \n",
       " 384                     2.329   31  \n",
       " 383                     0.222   26  \n",
       " 233                     0.787   32  \n",
       " 434                     1.127   43  \n",
       " 187                     0.303   24  \n",
       " \n",
       " [144 rows x 8 columns],\n",
       "      Outcome\n",
       " 329        0\n",
       " 376        1\n",
       " 208        1\n",
       " 134        0\n",
       " 192        1\n",
       " ..       ...\n",
       " 555        1\n",
       " 309        1\n",
       " 22         0\n",
       " 419        1\n",
       " 432        0\n",
       " \n",
       " [432 rows x 1 columns],\n",
       "      Outcome\n",
       " 180        0\n",
       " 294        0\n",
       " 447        1\n",
       " 334        0\n",
       " 308        0\n",
       " ..       ...\n",
       " 384        0\n",
       " 383        1\n",
       " 233        0\n",
       " 434        1\n",
       " 187        0\n",
       " \n",
       " [144 rows x 1 columns]]"
      ]
     },
     "execution_count": 4,
     "metadata": {},
     "output_type": "execute_result"
    }
   ],
   "source": [
    "train_test_split(inputs, targets)"
   ]
  },
  {
   "cell_type": "code",
   "execution_count": 5,
   "id": "2b113a62",
   "metadata": {},
   "outputs": [],
   "source": [
    "# we split ou data into test and train data \n",
    "# store it in four variables\n",
    "x_train, x_test, y_train, y_test = train_test_split(inputs, targets, #train_size = 0.85, \n",
    "                                                                            test_size = 0.15)"
   ]
  },
  {
   "cell_type": "code",
   "execution_count": 6,
   "id": "a573d1f8",
   "metadata": {},
   "outputs": [
    {
     "name": "stdout",
     "output_type": "stream",
     "text": [
      "(489, 8) (489, 1)\n"
     ]
    }
   ],
   "source": [
    "# check the shape of the train inputs and targets\n",
    "print (x_train.shape, y_train.shape)"
   ]
  },
  {
   "cell_type": "code",
   "execution_count": 7,
   "id": "7e42abbc",
   "metadata": {},
   "outputs": [
    {
     "name": "stdout",
     "output_type": "stream",
     "text": [
      "(87, 8) (87, 1)\n"
     ]
    }
   ],
   "source": [
    "# check the shape of the test inputs and targets\n",
    "print (x_test.shape, y_test.shape)"
   ]
  },
  {
   "cell_type": "code",
   "execution_count": 8,
   "id": "b2344fb9",
   "metadata": {},
   "outputs": [],
   "source": [
    "# import the LogReg model from sklearn\n",
    "from sklearn.linear_model import LogisticRegression\n",
    "\n",
    "# import the 'metrics' module, which includes important metrics we may want to use\n",
    "from sklearn import metrics\n",
    "\n",
    "# create a logistic regression object\n",
    "reg = LogisticRegression()"
   ]
  },
  {
   "cell_type": "code",
   "execution_count": 9,
   "id": "d7d794bf",
   "metadata": {},
   "outputs": [
    {
     "name": "stderr",
     "output_type": "stream",
     "text": [
      "/Users/tushartinna/opt/anaconda3/lib/python3.9/site-packages/sklearn/utils/validation.py:993: DataConversionWarning: A column-vector y was passed when a 1d array was expected. Please change the shape of y to (n_samples, ), for example using ravel().\n",
      "  y = column_or_1d(y, warn=True)\n",
      "/Users/tushartinna/opt/anaconda3/lib/python3.9/site-packages/sklearn/linear_model/_logistic.py:814: ConvergenceWarning: lbfgs failed to converge (status=1):\n",
      "STOP: TOTAL NO. of ITERATIONS REACHED LIMIT.\n",
      "\n",
      "Increase the number of iterations (max_iter) or scale the data as shown in:\n",
      "    https://scikit-learn.org/stable/modules/preprocessing.html\n",
      "Please also refer to the documentation for alternative solver options:\n",
      "    https://scikit-learn.org/stable/modules/linear_model.html#logistic-regression\n",
      "  n_iter_i = _check_optimize_result(\n"
     ]
    },
    {
     "data": {
      "text/plain": [
       "LogisticRegression()"
      ]
     },
     "execution_count": 9,
     "metadata": {},
     "output_type": "execute_result"
    }
   ],
   "source": [
    "# fit our train inputs\n",
    "# this is training part of the machine learning\n",
    "reg.fit(x_train,y_train)"
   ]
  },
  {
   "cell_type": "code",
   "execution_count": 10,
   "id": "73ecfc37",
   "metadata": {},
   "outputs": [
    {
     "data": {
      "text/plain": [
       "0.7750511247443763"
      ]
     },
     "execution_count": 10,
     "metadata": {},
     "output_type": "execute_result"
    }
   ],
   "source": [
    "# assess the train accuracy of the model\n",
    "reg.score(x_train,y_train)"
   ]
  },
  {
   "cell_type": "code",
   "execution_count": 11,
   "id": "0f74ee1d",
   "metadata": {},
   "outputs": [
    {
     "data": {
      "text/plain": [
       "array([-8.25460541])"
      ]
     },
     "execution_count": 11,
     "metadata": {},
     "output_type": "execute_result"
    }
   ],
   "source": [
    "# get the intercept (bias) of our model\n",
    "reg.intercept_"
   ]
  },
  {
   "cell_type": "code",
   "execution_count": 12,
   "id": "b4d9502b",
   "metadata": {},
   "outputs": [
    {
     "data": {
      "text/plain": [
       "array([[ 1.10863147e-01,  3.76111854e-02, -1.34973735e-02,\n",
       "        -1.29996365e-03, -7.69380136e-04,  9.03135637e-02,\n",
       "         8.90357610e-01,  4.29573655e-03]])"
      ]
     },
     "execution_count": 12,
     "metadata": {},
     "output_type": "execute_result"
    }
   ],
   "source": [
    "# get the coefficients (weights) of our model\n",
    "reg.coef_"
   ]
  },
  {
   "cell_type": "code",
   "execution_count": 13,
   "id": "929f8683",
   "metadata": {},
   "outputs": [],
   "source": [
    "# check what were the names of our columns\n",
    "inputs.columns.values\n",
    "# save the names of the columns in an ad-hoc variable\n",
    "feature_name = inputs.columns.values"
   ]
  },
  {
   "cell_type": "code",
   "execution_count": 14,
   "id": "4b673717",
   "metadata": {},
   "outputs": [
    {
     "data": {
      "text/html": [
       "<div>\n",
       "<style scoped>\n",
       "    .dataframe tbody tr th:only-of-type {\n",
       "        vertical-align: middle;\n",
       "    }\n",
       "\n",
       "    .dataframe tbody tr th {\n",
       "        vertical-align: top;\n",
       "    }\n",
       "\n",
       "    .dataframe thead th {\n",
       "        text-align: right;\n",
       "    }\n",
       "</style>\n",
       "<table border=\"1\" class=\"dataframe\">\n",
       "  <thead>\n",
       "    <tr style=\"text-align: right;\">\n",
       "      <th></th>\n",
       "      <th>Feature name</th>\n",
       "      <th>Coefficient</th>\n",
       "    </tr>\n",
       "  </thead>\n",
       "  <tbody>\n",
       "    <tr>\n",
       "      <th>0</th>\n",
       "      <td>Pregnancies</td>\n",
       "      <td>0.110863</td>\n",
       "    </tr>\n",
       "    <tr>\n",
       "      <th>1</th>\n",
       "      <td>Glucose</td>\n",
       "      <td>0.037611</td>\n",
       "    </tr>\n",
       "    <tr>\n",
       "      <th>2</th>\n",
       "      <td>BloodPressure</td>\n",
       "      <td>-0.013497</td>\n",
       "    </tr>\n",
       "    <tr>\n",
       "      <th>3</th>\n",
       "      <td>SkinThickness</td>\n",
       "      <td>-0.001300</td>\n",
       "    </tr>\n",
       "    <tr>\n",
       "      <th>4</th>\n",
       "      <td>Insulin</td>\n",
       "      <td>-0.000769</td>\n",
       "    </tr>\n",
       "    <tr>\n",
       "      <th>5</th>\n",
       "      <td>BMI</td>\n",
       "      <td>0.090314</td>\n",
       "    </tr>\n",
       "    <tr>\n",
       "      <th>6</th>\n",
       "      <td>DiabetesPedigreeFunction</td>\n",
       "      <td>0.890358</td>\n",
       "    </tr>\n",
       "    <tr>\n",
       "      <th>7</th>\n",
       "      <td>Age</td>\n",
       "      <td>0.004296</td>\n",
       "    </tr>\n",
       "  </tbody>\n",
       "</table>\n",
       "</div>"
      ],
      "text/plain": [
       "               Feature name  Coefficient\n",
       "0               Pregnancies     0.110863\n",
       "1                   Glucose     0.037611\n",
       "2             BloodPressure    -0.013497\n",
       "3             SkinThickness    -0.001300\n",
       "4                   Insulin    -0.000769\n",
       "5                       BMI     0.090314\n",
       "6  DiabetesPedigreeFunction     0.890358\n",
       "7                       Age     0.004296"
      ]
     },
     "execution_count": 14,
     "metadata": {},
     "output_type": "execute_result"
    }
   ],
   "source": [
    "# use the coefficients from this table (they will be exported later and will be used in Tableau)\n",
    "# transpose the model coefficients (model.coef_) and throws them into a df (a vertical organization, so that they can be\n",
    "# multiplied by certain matrices later) \n",
    "summary_table = pd.DataFrame (columns=['Feature name'], data = feature_name)\n",
    "\n",
    "# add the coefficient values to the summary table\n",
    "summary_table['Coefficient'] = np.transpose(reg.coef_)\n",
    "\n",
    "# display the summary table\n",
    "summary_table"
   ]
  },
  {
   "cell_type": "code",
   "execution_count": 15,
   "id": "6122e7b9",
   "metadata": {},
   "outputs": [
    {
     "data": {
      "text/html": [
       "<div>\n",
       "<style scoped>\n",
       "    .dataframe tbody tr th:only-of-type {\n",
       "        vertical-align: middle;\n",
       "    }\n",
       "\n",
       "    .dataframe tbody tr th {\n",
       "        vertical-align: top;\n",
       "    }\n",
       "\n",
       "    .dataframe thead th {\n",
       "        text-align: right;\n",
       "    }\n",
       "</style>\n",
       "<table border=\"1\" class=\"dataframe\">\n",
       "  <thead>\n",
       "    <tr style=\"text-align: right;\">\n",
       "      <th></th>\n",
       "      <th>Feature name</th>\n",
       "      <th>Coefficient</th>\n",
       "      <th>Odds_ratio</th>\n",
       "    </tr>\n",
       "  </thead>\n",
       "  <tbody>\n",
       "    <tr>\n",
       "      <th>0</th>\n",
       "      <td>Pregnancies</td>\n",
       "      <td>0.110863</td>\n",
       "      <td>1.117242</td>\n",
       "    </tr>\n",
       "    <tr>\n",
       "      <th>1</th>\n",
       "      <td>Glucose</td>\n",
       "      <td>0.037611</td>\n",
       "      <td>1.038327</td>\n",
       "    </tr>\n",
       "    <tr>\n",
       "      <th>2</th>\n",
       "      <td>BloodPressure</td>\n",
       "      <td>-0.013497</td>\n",
       "      <td>0.986593</td>\n",
       "    </tr>\n",
       "    <tr>\n",
       "      <th>3</th>\n",
       "      <td>SkinThickness</td>\n",
       "      <td>-0.001300</td>\n",
       "      <td>0.998701</td>\n",
       "    </tr>\n",
       "    <tr>\n",
       "      <th>4</th>\n",
       "      <td>Insulin</td>\n",
       "      <td>-0.000769</td>\n",
       "      <td>0.999231</td>\n",
       "    </tr>\n",
       "    <tr>\n",
       "      <th>5</th>\n",
       "      <td>BMI</td>\n",
       "      <td>0.090314</td>\n",
       "      <td>1.094517</td>\n",
       "    </tr>\n",
       "    <tr>\n",
       "      <th>6</th>\n",
       "      <td>DiabetesPedigreeFunction</td>\n",
       "      <td>0.890358</td>\n",
       "      <td>2.436001</td>\n",
       "    </tr>\n",
       "    <tr>\n",
       "      <th>7</th>\n",
       "      <td>Age</td>\n",
       "      <td>0.004296</td>\n",
       "      <td>1.004305</td>\n",
       "    </tr>\n",
       "  </tbody>\n",
       "</table>\n",
       "</div>"
      ],
      "text/plain": [
       "               Feature name  Coefficient  Odds_ratio\n",
       "0               Pregnancies     0.110863    1.117242\n",
       "1                   Glucose     0.037611    1.038327\n",
       "2             BloodPressure    -0.013497    0.986593\n",
       "3             SkinThickness    -0.001300    0.998701\n",
       "4                   Insulin    -0.000769    0.999231\n",
       "5                       BMI     0.090314    1.094517\n",
       "6  DiabetesPedigreeFunction     0.890358    2.436001\n",
       "7                       Age     0.004296    1.004305"
      ]
     },
     "execution_count": 15,
     "metadata": {},
     "output_type": "execute_result"
    }
   ],
   "source": [
    "summary_table['Odds_ratio'] = np.exp(summary_table.Coefficient)\n",
    "summary_table.sort_values('Odds_ratio', ascending=False)\n",
    "summary_table"
   ]
  },
  {
   "cell_type": "code",
   "execution_count": 16,
   "id": "9d4136f1",
   "metadata": {},
   "outputs": [
    {
     "data": {
      "text/plain": [
       "0.7931034482758621"
      ]
     },
     "execution_count": 16,
     "metadata": {},
     "output_type": "execute_result"
    }
   ],
   "source": [
    "# assess the test accuracy of the model using the test data to get the real accuracy\n",
    "reg.score(x_test,y_test)"
   ]
  },
  {
   "cell_type": "code",
   "execution_count": 18,
   "id": "574e529a",
   "metadata": {},
   "outputs": [],
   "source": [
    "# import the relevant module\n",
    "import pickle"
   ]
  },
  {
   "cell_type": "code",
   "execution_count": 19,
   "id": "c5365d65",
   "metadata": {},
   "outputs": [],
   "source": [
    "# pickle the model file \n",
    "with open('diabetesmodel', 'wb') as file:\n",
    "    pickle.dump(reg, file)"
   ]
  },
  {
   "cell_type": "code",
   "execution_count": null,
   "id": "62aef97c",
   "metadata": {},
   "outputs": [],
   "source": []
  }
 ],
 "metadata": {
  "kernelspec": {
   "display_name": "Python 3 (ipykernel)",
   "language": "python",
   "name": "python3"
  },
  "language_info": {
   "codemirror_mode": {
    "name": "ipython",
    "version": 3
   },
   "file_extension": ".py",
   "mimetype": "text/x-python",
   "name": "python",
   "nbconvert_exporter": "python",
   "pygments_lexer": "ipython3",
   "version": "3.9.12"
  }
 },
 "nbformat": 4,
 "nbformat_minor": 5
}
